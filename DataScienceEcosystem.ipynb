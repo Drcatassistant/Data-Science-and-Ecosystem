{
  "cells": [
    {
      "cell_type": "markdown",
      "metadata": {},
      "source": [
        "<h1> Data Science Tools and Ecosystem </h1>"
      ]
    },
    {
      "cell_type": "markdown",
      "metadata": {},
      "source": [
        "**Introduction**\n",
        "\n",
        "This Jupyter Notebook serves as a comprehensive exploration of essential data science tools, languages, libraries, and operations. We'll delve into common arithmetic expressions and provide practical examples to solidify our understanding."
      ]
    },
    {
      "cell_type": "markdown",
      "metadata": {},
      "source": [
        "**Data Science Languages**\n",
        "\n",
        "- Python\n",
        "- R\n",
        "- SQL\n",
        "- Julia\n",
        "- Scala"
      ]
    },
    {
      "cell_type": "markdown",
      "metadata": {},
      "source": [
        "**Data Science Libraries**\n",
        "\n",
        "- NumPy\n",
        "- Pandas\n",
        "- Matplotlib\n",
        "- Seaborn\n",
        "- Scikit-learn\n",
        "- TensorFlow\n",
        "- PyTorch"
      ]
    },
    {
      "cell_type": "markdown",
      "metadata": {},
      "source": [
        "| Tool | Description |\n",
        "|---|---|\n",
        "| Jupyter Notebook | Interactive environment for data analysis and visualization |\n",
        "| RStudio | Integrated development environment for R |\n",
        "| Anaconda | Distribution of Python and R for data science |\n",
        "| Google Colab | Free cloud-based Jupyter Notebook environment |\n",
        "| Kaggle | Platform for data science competitions and datasets |"
      ]
    },
    {
      "cell_type": "markdown",
      "metadata": {},
      "source": [
        "**Arithmetic Expression Examples**\n",
        "\n",
        "Arithmetic expressions are fundamental to data manipulation and calculations in data science. Let's explore some common examples:\n",
        "\n",
        "- Addition: `2 + 3`\n",
        "- Subtraction: `5 - 1`\n",
        "- Multiplication: `4 * 6`\n",
        "- Division: `10 / 2`\n",
        "- Exponentiation: `2 ** 3` (2 to the power of 3)"
      ]
    },
    {
      "cell_type": "code",
      "execution_count": 5,
      "metadata": {
        "trusted": true
      },
      "outputs": [
        {
          "name": "stdout",
          "output_type": "stream",
          "text": [
            "Result: 11\n"
          ]
        }
      ],
      "source": [
        "result = (2 * 3) + 5\n",
        "print(\"Result:\", result)"
      ]
    },
    {
      "cell_type": "code",
      "execution_count": 6,
      "metadata": {
        "trusted": true
      },
      "outputs": [
        {
          "name": "stdout",
          "output_type": "stream",
          "text": [
            "Hours: 2.0\n"
          ]
        }
      ],
      "source": [
        "minutes = 120\n",
        "hours = minutes / 60\n",
        "print(\"Hours:\", hours)"
      ]
    },
    {
      "cell_type": "markdown",
      "metadata": {},
      "source": [
        "**Objectives**\n",
        "\n",
        "- Introduce essential data science tools and libraries\n",
        "- Explore common arithmetic expressions and operations\n",
        "- Demonstrate practical examples of data manipulation\n",
        "- Provide a foundation for further data science exploration"
      ]
    },
    {
      "cell_type": "markdown",
      "metadata": {},
      "source": [
        "**Author**\n",
        "\n",
        "Jackson Raj A"
      ]
    },
    {
      "cell_type": "code",
      "execution_count": null,
      "metadata": {
        "trusted": true
      },
      "outputs": [],
      "source": []
    }
  ],
  "metadata": {
    "kernelspec": {
      "display_name": "Python (Pyodide)",
      "language": "python",
      "name": "python"
    },
    "language_info": {
      "codemirror_mode": {
        "name": "python",
        "version": 3
      },
      "file_extension": ".py",
      "mimetype": "text/x-python",
      "name": "python",
      "nbconvert_exporter": "python",
      "pygments_lexer": "ipython3",
      "version": "3.8"
    }
  },
  "nbformat": 4,
  "nbformat_minor": 4
}
